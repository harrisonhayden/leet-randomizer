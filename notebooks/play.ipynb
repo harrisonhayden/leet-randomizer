{
 "cells": [
  {
   "cell_type": "code",
   "execution_count": 23,
   "metadata": {},
   "outputs": [
    {
     "name": "stderr",
     "output_type": "stream",
     "text": [
      "C:\\Users\\flame\\AppData\\Local\\Temp\\ipykernel_10660\\3840570126.py:21: DeprecationWarning: executable_path has been deprecated, please pass in a Service object\n",
      "  driver = webdriver.Chrome(executable_path=CHROMEDRIVER_PATH, options=options)\n"
     ]
    }
   ],
   "source": [
    "import bs4\n",
    "from selenium import webdriver\n",
    "from selenium.webdriver.chrome.options import Options\n",
    "from selenium.webdriver.common.by import By\n",
    "from selenium.webdriver.support import expected_conditions as EC\n",
    "from selenium.webdriver.support.ui import WebDriverWait\n",
    "from utils import *\n",
    "\n",
    "# all solved problems as of 7/21/22\n",
    "LINKS = ['https://leetcode.com/problems/two-sum/','https://leetcode.com/problems/best-time-to-buy-and-sell-stock/','https://leetcode.com/problems/contains-duplicate/','https://leetcode.com/problems/product-of-array-except-self/','https://leetcode.com/problems/maximum-subarray/','https://leetcode.com/problems/search-in-rotated-sorted-array/','https://leetcode.com/problems/3sum/','https://leetcode.com/problems/container-with-most-water/','https://leetcode.com/problems/longest-consecutive-sequence/','https://leetcode.com/problems/longest-substring-without-repeating-characters/','https://leetcode.com/problems/longest-repeating-character-replacement/','https://leetcode.com/problems/minimum-window-substring/','https://leetcode.com/problems/valid-anagram/','https://leetcode.com/problems/group-anagrams/','https://leetcode.com/problems/valid-parentheses/','https://leetcode.com/problems/valid-palindrome/','https://leetcode.com/problems/top-k-frequent-elements/','https://leetcode.com/problems/two-sum-ii-input-array-is-sorted','https://leetcode.com/problems/contains-duplicate','https://leetcode.com/problems/contains-duplicate-ii']\n",
    "index = 1\n",
    "link_count = len(LINKS)\n",
    "# Setup Selenium Webdriver\n",
    "CHROMEDRIVER_PATH = r\"./driver/chromedriver.exe\"\n",
    "options = Options()\n",
    "options.headless = True\n",
    "# Disable Warning, Error and Info logs\n",
    "# Show only fatal errors\n",
    "options.add_argument(\"--log-level=3\")\n",
    "\n",
    "driver = webdriver.Chrome(executable_path=CHROMEDRIVER_PATH, options=options)\n",
    "\n"
   ]
  },
  {
   "cell_type": "code",
   "execution_count": 24,
   "metadata": {},
   "outputs": [],
   "source": [
    "def download(url):\n",
    "    print(f'Fetching problem {index}/{link_count}...', end='\\r')\n",
    "    driver.get(url)\n",
    "    WebDriverWait(driver, 20).until(\n",
    "        EC.invisibility_of_element_located((By.ID, 'initial-loading'))\n",
    "    )\n",
    "\n",
    "    # Get current tab page source\n",
    "    html = driver.page_source\n",
    "    soup = bs4.BeautifulSoup(html, \"html.parser\")\n",
    "\n",
    "    # Construct HTML\n",
    "    title = str(soup.find('div', {'class': 'css-v3d350'}).getText())\n",
    "    title_decorator = '*' * len(title)\n",
    "    title_html = title_decorator + f'<div id=\"title\">{title}</div>' + '\\n' + title_decorator\n",
    "    result = title_html + str(soup.find(\"div\", {\"class\": \"content__u3I1 question-content__JfgR\"})) + '<br><br><hr><br>'\n",
    "\n",
    "    # Append Contents to an HTML file\n",
    "    with open(\"out.html\", \"ab\") as f:\n",
    "        f.write(result.encode(encoding=\"utf-8\"))\n"
   ]
  },
  {
   "cell_type": "code",
   "execution_count": 25,
   "metadata": {},
   "outputs": [
    {
     "name": "stdout",
     "output_type": "stream",
     "text": [
      "Fetching problem 20/20\r"
     ]
    }
   ],
   "source": [
    "for link in LINKS:\n",
    "    download(link)\n",
    "    index += 1"
   ]
  },
  {
   "cell_type": "code",
   "execution_count": 4,
   "metadata": {},
   "outputs": [],
   "source": []
  },
  {
   "cell_type": "code",
   "execution_count": null,
   "metadata": {},
   "outputs": [],
   "source": []
  }
 ],
 "metadata": {
  "kernelspec": {
   "display_name": "Python 3.9.2 64-bit",
   "language": "python",
   "name": "python3"
  },
  "language_info": {
   "codemirror_mode": {
    "name": "ipython",
    "version": 3
   },
   "file_extension": ".py",
   "mimetype": "text/x-python",
   "name": "python",
   "nbconvert_exporter": "python",
   "pygments_lexer": "ipython3",
   "version": "3.9.2"
  },
  "orig_nbformat": 4,
  "vscode": {
   "interpreter": {
    "hash": "8b54f8c19c9e138bb4d75b318d96c29d9ad49c1b8d3a90d613b0ddbaf7dbdce6"
   }
  }
 },
 "nbformat": 4,
 "nbformat_minor": 2
}
